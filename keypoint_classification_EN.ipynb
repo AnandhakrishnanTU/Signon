{
  "cells": [
    {
      "cell_type": "code",
      "execution_count": 1,
      "metadata": {
        "id": "igMyGnjE9hEp"
      },
      "outputs": [],
      "source": [
        "import csv\n",
        "\n",
        "import numpy as np\n",
        "import tensorflow as tf\n",
        "from sklearn.model_selection import train_test_split\n",
        "\n",
        "RANDOM_SEED = 42"
      ]
    },
    {
      "attachments": {},
      "cell_type": "markdown",
      "metadata": {
        "id": "t2HDvhIu9hEr"
      },
      "source": [
        "# Specify each path"
      ]
    },
    {
      "cell_type": "code",
      "execution_count": 2,
      "metadata": {
        "id": "9NvZP2Zn9hEy"
      },
      "outputs": [],
      "source": [
        "dataset = 'model/keypoint_classifier/keypoint.csv'\n",
        "model_save_path = 'model/keypoint_classifier/keypoint_classifier.hdf5'\n",
        "tflite_save_path = 'model/keypoint_classifier/keypoint_classifier.tflite'"
      ]
    },
    {
      "attachments": {},
      "cell_type": "markdown",
      "metadata": {
        "id": "s5oMH7x19hEz"
      },
      "source": [
        "# Set number of classes"
      ]
    },
    {
      "cell_type": "code",
      "execution_count": 3,
      "metadata": {
        "id": "du4kodXL9hEz"
      },
      "outputs": [],
      "source": [
        "NUM_CLASSES = 21"
      ]
    },
    {
      "attachments": {},
      "cell_type": "markdown",
      "metadata": {
        "id": "XjnL0uso9hEz"
      },
      "source": [
        "# Dataset reading"
      ]
    },
    {
      "cell_type": "code",
      "execution_count": 4,
      "metadata": {
        "id": "QT5ZqtEz9hE0"
      },
      "outputs": [],
      "source": [
        "X_dataset = np.loadtxt(dataset, delimiter=',', dtype='float32', usecols=list(range(1, (21 * 2) + 1)))"
      ]
    },
    {
      "cell_type": "code",
      "execution_count": 5,
      "metadata": {
        "id": "QmoKFsp49hE0"
      },
      "outputs": [],
      "source": [
        "y_dataset = np.loadtxt(dataset, delimiter=',', dtype='int32', usecols=(0))"
      ]
    },
    {
      "cell_type": "code",
      "execution_count": 6,
      "metadata": {
        "id": "xQU7JTZ_9hE0"
      },
      "outputs": [],
      "source": [
        "X_train, X_test, y_train, y_test = train_test_split(X_dataset, y_dataset, train_size=0.75, random_state=RANDOM_SEED)"
      ]
    },
    {
      "attachments": {},
      "cell_type": "markdown",
      "metadata": {
        "id": "mxK_lETT9hE0"
      },
      "source": [
        "# Model building"
      ]
    },
    {
      "cell_type": "code",
      "execution_count": 7,
      "metadata": {
        "id": "vHBmUf1t9hE1"
      },
      "outputs": [],
      "source": [
        "model = tf.keras.models.Sequential([\n",
        "    tf.keras.layers.Input((21 * 2, )),\n",
        "    tf.keras.layers.Dropout(0.2),\n",
        "    tf.keras.layers.Dense(20, activation='relu'),\n",
        "    tf.keras.layers.Dropout(0.4),\n",
        "    tf.keras.layers.Dense(10, activation='relu'),\n",
        "    tf.keras.layers.Dense(NUM_CLASSES, activation='softmax')\n",
        "])"
      ]
    },
    {
      "cell_type": "code",
      "execution_count": 8,
      "metadata": {
        "colab": {
          "base_uri": "https://localhost:8080/"
        },
        "id": "ypqky9tc9hE1",
        "outputId": "5db082bb-30e3-4110-bf63-a1ee777ecd46"
      },
      "outputs": [
        {
          "name": "stdout",
          "output_type": "stream",
          "text": [
            "Model: \"sequential\"\n",
            "_________________________________________________________________\n",
            " Layer (type)                Output Shape              Param #   \n",
            "=================================================================\n",
            " dropout (Dropout)           (None, 42)                0         \n",
            "                                                                 \n",
            " dense (Dense)               (None, 20)                860       \n",
            "                                                                 \n",
            " dropout_1 (Dropout)         (None, 20)                0         \n",
            "                                                                 \n",
            " dense_1 (Dense)             (None, 10)                210       \n",
            "                                                                 \n",
            " dense_2 (Dense)             (None, 21)                231       \n",
            "                                                                 \n",
            "=================================================================\n",
            "Total params: 1,301\n",
            "Trainable params: 1,301\n",
            "Non-trainable params: 0\n",
            "_________________________________________________________________\n"
          ]
        }
      ],
      "source": [
        "model.summary()  # tf.keras.utils.plot_model(model, show_shapes=True)"
      ]
    },
    {
      "cell_type": "code",
      "execution_count": 9,
      "metadata": {
        "id": "MbMjOflQ9hE1"
      },
      "outputs": [],
      "source": [
        "# Model checkpoint callback\n",
        "cp_callback = tf.keras.callbacks.ModelCheckpoint(\n",
        "    model_save_path, verbose=1, save_weights_only=False)\n",
        "# Callback for early stopping\n",
        "es_callback = tf.keras.callbacks.EarlyStopping(patience=20, verbose=1)"
      ]
    },
    {
      "cell_type": "code",
      "execution_count": 10,
      "metadata": {
        "id": "c3Dac0M_9hE2"
      },
      "outputs": [],
      "source": [
        "# Model compilation\n",
        "model.compile(\n",
        "    optimizer='adam',\n",
        "    loss='sparse_categorical_crossentropy',\n",
        "    metrics=['accuracy']\n",
        ")"
      ]
    },
    {
      "attachments": {},
      "cell_type": "markdown",
      "metadata": {
        "id": "7XI0j1Iu9hE2"
      },
      "source": [
        "# Model training"
      ]
    },
    {
      "cell_type": "code",
      "execution_count": 11,
      "metadata": {
        "colab": {
          "base_uri": "https://localhost:8080/"
        },
        "id": "WirBl-JE9hE3",
        "outputId": "71b30ca2-8294-4d9d-8aa2-800d90d399de",
        "scrolled": true
      },
      "outputs": [
        {
          "name": "stdout",
          "output_type": "stream",
          "text": [
            "Epoch 1/1000\n",
            "116/118 [============================>.] - ETA: 0s - loss: 2.9556 - accuracy: 0.0996\n",
            "Epoch 1: saving model to model/keypoint_classifier\\keypoint_classifier.hdf5\n",
            "118/118 [==============================] - 2s 5ms/step - loss: 2.9548 - accuracy: 0.0997 - val_loss: 2.7714 - val_accuracy: 0.1606\n",
            "Epoch 2/1000\n",
            "103/118 [=========================>....] - ETA: 0s - loss: 2.7004 - accuracy: 0.1498\n",
            "Epoch 2: saving model to model/keypoint_classifier\\keypoint_classifier.hdf5\n",
            "118/118 [==============================] - 0s 3ms/step - loss: 2.6847 - accuracy: 0.1540 - val_loss: 2.4456 - val_accuracy: 0.3026\n",
            "Epoch 3/1000\n",
            "107/118 [==========================>...] - ETA: 0s - loss: 2.4327 - accuracy: 0.2127\n",
            "Epoch 3: saving model to model/keypoint_classifier\\keypoint_classifier.hdf5\n",
            "118/118 [==============================] - 0s 3ms/step - loss: 2.4225 - accuracy: 0.2159 - val_loss: 2.1382 - val_accuracy: 0.4022\n",
            "Epoch 4/1000\n",
            " 94/118 [======================>.......] - ETA: 0s - loss: 2.2324 - accuracy: 0.2650\n",
            "Epoch 4: saving model to model/keypoint_classifier\\keypoint_classifier.hdf5\n",
            "118/118 [==============================] - 0s 3ms/step - loss: 2.2137 - accuracy: 0.2701 - val_loss: 1.8957 - val_accuracy: 0.4882\n",
            "Epoch 5/1000\n",
            "113/118 [===========================>..] - ETA: 0s - loss: 2.0777 - accuracy: 0.3045\n",
            "Epoch 5: saving model to model/keypoint_classifier\\keypoint_classifier.hdf5\n",
            "118/118 [==============================] - 0s 3ms/step - loss: 2.0747 - accuracy: 0.3057 - val_loss: 1.7250 - val_accuracy: 0.5770\n",
            "Epoch 6/1000\n",
            "106/118 [=========================>....] - ETA: 0s - loss: 1.9732 - accuracy: 0.3412\n",
            "Epoch 6: saving model to model/keypoint_classifier\\keypoint_classifier.hdf5\n",
            "118/118 [==============================] - 0s 4ms/step - loss: 1.9694 - accuracy: 0.3428 - val_loss: 1.5761 - val_accuracy: 0.6534\n",
            "Epoch 7/1000\n",
            "116/118 [============================>.] - ETA: 0s - loss: 1.8797 - accuracy: 0.3755\n",
            "Epoch 7: saving model to model/keypoint_classifier\\keypoint_classifier.hdf5\n",
            "118/118 [==============================] - 0s 3ms/step - loss: 1.8799 - accuracy: 0.3755 - val_loss: 1.4500 - val_accuracy: 0.7482\n",
            "Epoch 8/1000\n",
            "100/118 [========================>.....] - ETA: 0s - loss: 1.8210 - accuracy: 0.3970\n",
            "Epoch 8: saving model to model/keypoint_classifier\\keypoint_classifier.hdf5\n",
            "118/118 [==============================] - 0s 3ms/step - loss: 1.8211 - accuracy: 0.3959 - val_loss: 1.3650 - val_accuracy: 0.7560\n",
            "Epoch 9/1000\n",
            "100/118 [========================>.....] - ETA: 0s - loss: 1.7604 - accuracy: 0.4191\n",
            "Epoch 9: saving model to model/keypoint_classifier\\keypoint_classifier.hdf5\n",
            "118/118 [==============================] - 0s 3ms/step - loss: 1.7593 - accuracy: 0.4189 - val_loss: 1.2736 - val_accuracy: 0.7822\n",
            "Epoch 10/1000\n",
            "100/118 [========================>.....] - ETA: 0s - loss: 1.7209 - accuracy: 0.4278\n",
            "Epoch 10: saving model to model/keypoint_classifier\\keypoint_classifier.hdf5\n",
            "118/118 [==============================] - 0s 3ms/step - loss: 1.7193 - accuracy: 0.4288 - val_loss: 1.2074 - val_accuracy: 0.7932\n",
            "Epoch 11/1000\n",
            "101/118 [========================>.....] - ETA: 0s - loss: 1.6861 - accuracy: 0.4405\n",
            "Epoch 11: saving model to model/keypoint_classifier\\keypoint_classifier.hdf5\n",
            "118/118 [==============================] - 0s 3ms/step - loss: 1.6852 - accuracy: 0.4398 - val_loss: 1.1496 - val_accuracy: 0.8216\n",
            "Epoch 12/1000\n",
            "109/118 [==========================>...] - ETA: 0s - loss: 1.6556 - accuracy: 0.4488\n",
            "Epoch 12: saving model to model/keypoint_classifier\\keypoint_classifier.hdf5\n",
            "118/118 [==============================] - 0s 3ms/step - loss: 1.6549 - accuracy: 0.4488 - val_loss: 1.0986 - val_accuracy: 0.8534\n",
            "Epoch 13/1000\n",
            "105/118 [=========================>....] - ETA: 0s - loss: 1.6317 - accuracy: 0.4532\n",
            "Epoch 13: saving model to model/keypoint_classifier\\keypoint_classifier.hdf5\n",
            "118/118 [==============================] - 0s 3ms/step - loss: 1.6318 - accuracy: 0.4529 - val_loss: 1.0503 - val_accuracy: 0.8674\n",
            "Epoch 14/1000\n",
            "104/118 [=========================>....] - ETA: 0s - loss: 1.5856 - accuracy: 0.4718\n",
            "Epoch 14: saving model to model/keypoint_classifier\\keypoint_classifier.hdf5\n",
            "118/118 [==============================] - 0s 4ms/step - loss: 1.5858 - accuracy: 0.4721 - val_loss: 1.0351 - val_accuracy: 0.8154\n",
            "Epoch 15/1000\n",
            "106/118 [=========================>....] - ETA: 0s - loss: 1.5958 - accuracy: 0.4603\n",
            "Epoch 15: saving model to model/keypoint_classifier\\keypoint_classifier.hdf5\n",
            "118/118 [==============================] - 0s 4ms/step - loss: 1.5950 - accuracy: 0.4611 - val_loss: 0.9965 - val_accuracy: 0.8622\n",
            "Epoch 16/1000\n",
            "106/118 [=========================>....] - ETA: 0s - loss: 1.5885 - accuracy: 0.4673\n",
            "Epoch 16: saving model to model/keypoint_classifier\\keypoint_classifier.hdf5\n",
            "118/118 [==============================] - 0s 4ms/step - loss: 1.5859 - accuracy: 0.4685 - val_loss: 0.9711 - val_accuracy: 0.8558\n",
            "Epoch 17/1000\n",
            "108/118 [==========================>...] - ETA: 0s - loss: 1.5597 - accuracy: 0.4766\n",
            "Epoch 17: saving model to model/keypoint_classifier\\keypoint_classifier.hdf5\n",
            "118/118 [==============================] - 0s 4ms/step - loss: 1.5574 - accuracy: 0.4768 - val_loss: 0.9327 - val_accuracy: 0.8446\n",
            "Epoch 18/1000\n",
            "106/118 [=========================>....] - ETA: 0s - loss: 1.5337 - accuracy: 0.4815\n",
            "Epoch 18: saving model to model/keypoint_classifier\\keypoint_classifier.hdf5\n",
            "118/118 [==============================] - 0s 4ms/step - loss: 1.5355 - accuracy: 0.4823 - val_loss: 0.9137 - val_accuracy: 0.8494\n",
            "Epoch 19/1000\n",
            "112/118 [===========================>..] - ETA: 0s - loss: 1.5265 - accuracy: 0.4854\n",
            "Epoch 19: saving model to model/keypoint_classifier\\keypoint_classifier.hdf5\n",
            "118/118 [==============================] - 1s 5ms/step - loss: 1.5277 - accuracy: 0.4838 - val_loss: 0.8991 - val_accuracy: 0.8528\n",
            "Epoch 20/1000\n",
            "110/118 [==========================>...] - ETA: 0s - loss: 1.5203 - accuracy: 0.4921\n",
            "Epoch 20: saving model to model/keypoint_classifier\\keypoint_classifier.hdf5\n",
            "118/118 [==============================] - 1s 5ms/step - loss: 1.5171 - accuracy: 0.4936 - val_loss: 0.8866 - val_accuracy: 0.8318\n",
            "Epoch 21/1000\n",
            "102/118 [========================>.....] - ETA: 0s - loss: 1.4976 - accuracy: 0.4890\n",
            "Epoch 21: saving model to model/keypoint_classifier\\keypoint_classifier.hdf5\n",
            "118/118 [==============================] - 0s 4ms/step - loss: 1.5004 - accuracy: 0.4881 - val_loss: 0.8532 - val_accuracy: 0.8950\n",
            "Epoch 22/1000\n",
            "113/118 [===========================>..] - ETA: 0s - loss: 1.4671 - accuracy: 0.5021\n",
            "Epoch 22: saving model to model/keypoint_classifier\\keypoint_classifier.hdf5\n",
            "118/118 [==============================] - 0s 3ms/step - loss: 1.4650 - accuracy: 0.5033 - val_loss: 0.8342 - val_accuracy: 0.8554\n",
            "Epoch 23/1000\n",
            "110/118 [==========================>...] - ETA: 0s - loss: 1.4785 - accuracy: 0.4990\n",
            "Epoch 23: saving model to model/keypoint_classifier\\keypoint_classifier.hdf5\n",
            "118/118 [==============================] - 1s 5ms/step - loss: 1.4768 - accuracy: 0.5002 - val_loss: 0.8302 - val_accuracy: 0.8630\n",
            "Epoch 24/1000\n",
            "113/118 [===========================>..] - ETA: 0s - loss: 1.4536 - accuracy: 0.5096\n",
            "Epoch 24: saving model to model/keypoint_classifier\\keypoint_classifier.hdf5\n",
            "118/118 [==============================] - 1s 5ms/step - loss: 1.4531 - accuracy: 0.5100 - val_loss: 0.8063 - val_accuracy: 0.8634\n",
            "Epoch 25/1000\n",
            "113/118 [===========================>..] - ETA: 0s - loss: 1.4650 - accuracy: 0.5094\n",
            "Epoch 25: saving model to model/keypoint_classifier\\keypoint_classifier.hdf5\n",
            "118/118 [==============================] - 1s 5ms/step - loss: 1.4659 - accuracy: 0.5080 - val_loss: 0.7997 - val_accuracy: 0.8592\n",
            "Epoch 26/1000\n",
            "108/118 [==========================>...] - ETA: 0s - loss: 1.4486 - accuracy: 0.5123\n",
            "Epoch 26: saving model to model/keypoint_classifier\\keypoint_classifier.hdf5\n",
            "118/118 [==============================] - 0s 4ms/step - loss: 1.4467 - accuracy: 0.5129 - val_loss: 0.7749 - val_accuracy: 0.8700\n",
            "Epoch 27/1000\n",
            "101/118 [========================>.....] - ETA: 0s - loss: 1.4158 - accuracy: 0.5209\n",
            "Epoch 27: saving model to model/keypoint_classifier\\keypoint_classifier.hdf5\n",
            "118/118 [==============================] - 0s 3ms/step - loss: 1.4137 - accuracy: 0.5205 - val_loss: 0.7556 - val_accuracy: 0.8764\n",
            "Epoch 28/1000\n",
            "115/118 [============================>.] - ETA: 0s - loss: 1.4212 - accuracy: 0.5224\n",
            "Epoch 28: saving model to model/keypoint_classifier\\keypoint_classifier.hdf5\n",
            "118/118 [==============================] - 0s 3ms/step - loss: 1.4222 - accuracy: 0.5219 - val_loss: 0.7489 - val_accuracy: 0.8762\n",
            "Epoch 29/1000\n",
            "111/118 [===========================>..] - ETA: 0s - loss: 1.4141 - accuracy: 0.5246\n",
            "Epoch 29: saving model to model/keypoint_classifier\\keypoint_classifier.hdf5\n",
            "118/118 [==============================] - 0s 3ms/step - loss: 1.4155 - accuracy: 0.5229 - val_loss: 0.7357 - val_accuracy: 0.8768\n",
            "Epoch 30/1000\n",
            " 93/118 [======================>.......] - ETA: 0s - loss: 1.3855 - accuracy: 0.5290\n",
            "Epoch 30: saving model to model/keypoint_classifier\\keypoint_classifier.hdf5\n",
            "118/118 [==============================] - 0s 3ms/step - loss: 1.3911 - accuracy: 0.5277 - val_loss: 0.7338 - val_accuracy: 0.8750\n",
            "Epoch 31/1000\n",
            " 97/118 [=======================>......] - ETA: 0s - loss: 1.3972 - accuracy: 0.5306\n",
            "Epoch 31: saving model to model/keypoint_classifier\\keypoint_classifier.hdf5\n",
            "118/118 [==============================] - 0s 3ms/step - loss: 1.3937 - accuracy: 0.5312 - val_loss: 0.7103 - val_accuracy: 0.8674\n",
            "Epoch 32/1000\n",
            "111/118 [===========================>..] - ETA: 0s - loss: 1.3861 - accuracy: 0.5279\n",
            "Epoch 32: saving model to model/keypoint_classifier\\keypoint_classifier.hdf5\n",
            "118/118 [==============================] - 0s 3ms/step - loss: 1.3839 - accuracy: 0.5299 - val_loss: 0.7092 - val_accuracy: 0.8688\n",
            "Epoch 33/1000\n",
            "106/118 [=========================>....] - ETA: 0s - loss: 1.3780 - accuracy: 0.5357\n",
            "Epoch 33: saving model to model/keypoint_classifier\\keypoint_classifier.hdf5\n",
            "118/118 [==============================] - 0s 4ms/step - loss: 1.3750 - accuracy: 0.5360 - val_loss: 0.6969 - val_accuracy: 0.8764\n",
            "Epoch 34/1000\n",
            "104/118 [=========================>....] - ETA: 0s - loss: 1.3711 - accuracy: 0.5386\n",
            "Epoch 34: saving model to model/keypoint_classifier\\keypoint_classifier.hdf5\n",
            "118/118 [==============================] - 0s 4ms/step - loss: 1.3703 - accuracy: 0.5393 - val_loss: 0.6985 - val_accuracy: 0.8980\n",
            "Epoch 35/1000\n",
            "111/118 [===========================>..] - ETA: 0s - loss: 1.3737 - accuracy: 0.5386\n",
            "Epoch 35: saving model to model/keypoint_classifier\\keypoint_classifier.hdf5\n",
            "118/118 [==============================] - 0s 3ms/step - loss: 1.3737 - accuracy: 0.5399 - val_loss: 0.6756 - val_accuracy: 0.8790\n",
            "Epoch 36/1000\n",
            "105/118 [=========================>....] - ETA: 0s - loss: 1.3368 - accuracy: 0.5484\n",
            "Epoch 36: saving model to model/keypoint_classifier\\keypoint_classifier.hdf5\n",
            "118/118 [==============================] - 0s 4ms/step - loss: 1.3445 - accuracy: 0.5447 - val_loss: 0.6690 - val_accuracy: 0.8914\n",
            "Epoch 37/1000\n",
            "107/118 [==========================>...] - ETA: 0s - loss: 1.3453 - accuracy: 0.5423\n",
            "Epoch 37: saving model to model/keypoint_classifier\\keypoint_classifier.hdf5\n",
            "118/118 [==============================] - 0s 4ms/step - loss: 1.3410 - accuracy: 0.5447 - val_loss: 0.6563 - val_accuracy: 0.8864\n",
            "Epoch 38/1000\n",
            "109/118 [==========================>...] - ETA: 0s - loss: 1.3497 - accuracy: 0.5420\n",
            "Epoch 38: saving model to model/keypoint_classifier\\keypoint_classifier.hdf5\n",
            "118/118 [==============================] - 0s 4ms/step - loss: 1.3501 - accuracy: 0.5419 - val_loss: 0.6505 - val_accuracy: 0.8880\n",
            "Epoch 39/1000\n",
            " 99/118 [========================>.....] - ETA: 0s - loss: 1.3409 - accuracy: 0.5447\n",
            "Epoch 39: saving model to model/keypoint_classifier\\keypoint_classifier.hdf5\n",
            "118/118 [==============================] - 0s 3ms/step - loss: 1.3346 - accuracy: 0.5481 - val_loss: 0.6425 - val_accuracy: 0.8880\n",
            "Epoch 40/1000\n",
            "106/118 [=========================>....] - ETA: 0s - loss: 1.3283 - accuracy: 0.5497\n",
            "Epoch 40: saving model to model/keypoint_classifier\\keypoint_classifier.hdf5\n",
            "118/118 [==============================] - 0s 4ms/step - loss: 1.3255 - accuracy: 0.5505 - val_loss: 0.6354 - val_accuracy: 0.8912\n",
            "Epoch 41/1000\n",
            "113/118 [===========================>..] - ETA: 0s - loss: 1.3175 - accuracy: 0.5501\n",
            "Epoch 41: saving model to model/keypoint_classifier\\keypoint_classifier.hdf5\n",
            "118/118 [==============================] - 0s 3ms/step - loss: 1.3151 - accuracy: 0.5516 - val_loss: 0.6327 - val_accuracy: 0.8900\n",
            "Epoch 42/1000\n",
            " 97/118 [=======================>......] - ETA: 0s - loss: 1.3121 - accuracy: 0.5530\n",
            "Epoch 42: saving model to model/keypoint_classifier\\keypoint_classifier.hdf5\n",
            "118/118 [==============================] - 0s 3ms/step - loss: 1.3161 - accuracy: 0.5508 - val_loss: 0.6236 - val_accuracy: 0.8832\n",
            "Epoch 43/1000\n",
            "117/118 [============================>.] - ETA: 0s - loss: 1.3154 - accuracy: 0.5557\n",
            "Epoch 43: saving model to model/keypoint_classifier\\keypoint_classifier.hdf5\n",
            "118/118 [==============================] - 0s 3ms/step - loss: 1.3157 - accuracy: 0.5557 - val_loss: 0.6173 - val_accuracy: 0.8892\n",
            "Epoch 44/1000\n",
            "118/118 [==============================] - ETA: 0s - loss: 1.3107 - accuracy: 0.5525\n",
            "Epoch 44: saving model to model/keypoint_classifier\\keypoint_classifier.hdf5\n",
            "118/118 [==============================] - 0s 3ms/step - loss: 1.3107 - accuracy: 0.5525 - val_loss: 0.6152 - val_accuracy: 0.9046\n",
            "Epoch 45/1000\n",
            " 97/118 [=======================>......] - ETA: 0s - loss: 1.3091 - accuracy: 0.5572\n",
            "Epoch 45: saving model to model/keypoint_classifier\\keypoint_classifier.hdf5\n",
            "118/118 [==============================] - 0s 3ms/step - loss: 1.3063 - accuracy: 0.5566 - val_loss: 0.6165 - val_accuracy: 0.8968\n",
            "Epoch 46/1000\n",
            "113/118 [===========================>..] - ETA: 0s - loss: 1.2996 - accuracy: 0.5584\n",
            "Epoch 46: saving model to model/keypoint_classifier\\keypoint_classifier.hdf5\n",
            "118/118 [==============================] - 0s 3ms/step - loss: 1.3002 - accuracy: 0.5581 - val_loss: 0.6162 - val_accuracy: 0.8878\n",
            "Epoch 47/1000\n",
            "109/118 [==========================>...] - ETA: 0s - loss: 1.2910 - accuracy: 0.5619\n",
            "Epoch 47: saving model to model/keypoint_classifier\\keypoint_classifier.hdf5\n",
            "118/118 [==============================] - 0s 4ms/step - loss: 1.2937 - accuracy: 0.5609 - val_loss: 0.6018 - val_accuracy: 0.8990\n",
            "Epoch 48/1000\n",
            "101/118 [========================>.....] - ETA: 0s - loss: 1.3115 - accuracy: 0.5546\n",
            "Epoch 48: saving model to model/keypoint_classifier\\keypoint_classifier.hdf5\n",
            "118/118 [==============================] - 0s 3ms/step - loss: 1.3075 - accuracy: 0.5567 - val_loss: 0.6008 - val_accuracy: 0.9046\n",
            "Epoch 49/1000\n",
            "100/118 [========================>.....] - ETA: 0s - loss: 1.2690 - accuracy: 0.5668\n",
            "Epoch 49: saving model to model/keypoint_classifier\\keypoint_classifier.hdf5\n",
            "118/118 [==============================] - 0s 3ms/step - loss: 1.2751 - accuracy: 0.5655 - val_loss: 0.5897 - val_accuracy: 0.8972\n",
            "Epoch 50/1000\n",
            "117/118 [============================>.] - ETA: 0s - loss: 1.2867 - accuracy: 0.5626\n",
            "Epoch 50: saving model to model/keypoint_classifier\\keypoint_classifier.hdf5\n",
            "118/118 [==============================] - 0s 3ms/step - loss: 1.2865 - accuracy: 0.5625 - val_loss: 0.5970 - val_accuracy: 0.9022\n",
            "Epoch 51/1000\n",
            "117/118 [============================>.] - ETA: 0s - loss: 1.2784 - accuracy: 0.5614\n",
            "Epoch 51: saving model to model/keypoint_classifier\\keypoint_classifier.hdf5\n",
            "118/118 [==============================] - 0s 3ms/step - loss: 1.2780 - accuracy: 0.5615 - val_loss: 0.5814 - val_accuracy: 0.9090\n",
            "Epoch 52/1000\n",
            "116/118 [============================>.] - ETA: 0s - loss: 1.2773 - accuracy: 0.5631\n",
            "Epoch 52: saving model to model/keypoint_classifier\\keypoint_classifier.hdf5\n",
            "118/118 [==============================] - 0s 3ms/step - loss: 1.2771 - accuracy: 0.5635 - val_loss: 0.5876 - val_accuracy: 0.8996\n",
            "Epoch 53/1000\n",
            "112/118 [===========================>..] - ETA: 0s - loss: 1.2929 - accuracy: 0.5648\n",
            "Epoch 53: saving model to model/keypoint_classifier\\keypoint_classifier.hdf5\n",
            "118/118 [==============================] - 0s 4ms/step - loss: 1.2905 - accuracy: 0.5659 - val_loss: 0.5853 - val_accuracy: 0.9034\n",
            "Epoch 54/1000\n",
            "109/118 [==========================>...] - ETA: 0s - loss: 1.2737 - accuracy: 0.5644\n",
            "Epoch 54: saving model to model/keypoint_classifier\\keypoint_classifier.hdf5\n",
            "118/118 [==============================] - 0s 3ms/step - loss: 1.2704 - accuracy: 0.5643 - val_loss: 0.5889 - val_accuracy: 0.9194\n",
            "Epoch 55/1000\n",
            " 97/118 [=======================>......] - ETA: 0s - loss: 1.2458 - accuracy: 0.5759\n",
            "Epoch 55: saving model to model/keypoint_classifier\\keypoint_classifier.hdf5\n",
            "118/118 [==============================] - 0s 4ms/step - loss: 1.2495 - accuracy: 0.5771 - val_loss: 0.5698 - val_accuracy: 0.9206\n",
            "Epoch 56/1000\n",
            "110/118 [==========================>...] - ETA: 0s - loss: 1.2590 - accuracy: 0.5714\n",
            "Epoch 56: saving model to model/keypoint_classifier\\keypoint_classifier.hdf5\n",
            "118/118 [==============================] - 0s 3ms/step - loss: 1.2559 - accuracy: 0.5728 - val_loss: 0.5700 - val_accuracy: 0.9052\n",
            "Epoch 57/1000\n",
            "105/118 [=========================>....] - ETA: 0s - loss: 1.2420 - accuracy: 0.5752\n",
            "Epoch 57: saving model to model/keypoint_classifier\\keypoint_classifier.hdf5\n",
            "118/118 [==============================] - 0s 4ms/step - loss: 1.2513 - accuracy: 0.5731 - val_loss: 0.5646 - val_accuracy: 0.9340\n",
            "Epoch 58/1000\n",
            "101/118 [========================>.....] - ETA: 0s - loss: 1.2356 - accuracy: 0.5762\n",
            "Epoch 58: saving model to model/keypoint_classifier\\keypoint_classifier.hdf5\n",
            "118/118 [==============================] - 0s 3ms/step - loss: 1.2382 - accuracy: 0.5779 - val_loss: 0.5617 - val_accuracy: 0.9046\n",
            "Epoch 59/1000\n",
            "108/118 [==========================>...] - ETA: 0s - loss: 1.2510 - accuracy: 0.5706\n",
            "Epoch 59: saving model to model/keypoint_classifier\\keypoint_classifier.hdf5\n",
            "118/118 [==============================] - 0s 3ms/step - loss: 1.2526 - accuracy: 0.5701 - val_loss: 0.5744 - val_accuracy: 0.9178\n",
            "Epoch 60/1000\n",
            "115/118 [============================>.] - ETA: 0s - loss: 1.2304 - accuracy: 0.5806\n",
            "Epoch 60: saving model to model/keypoint_classifier\\keypoint_classifier.hdf5\n",
            "118/118 [==============================] - 0s 3ms/step - loss: 1.2321 - accuracy: 0.5797 - val_loss: 0.5548 - val_accuracy: 0.9230\n",
            "Epoch 61/1000\n",
            "100/118 [========================>.....] - ETA: 0s - loss: 1.2492 - accuracy: 0.5695\n",
            "Epoch 61: saving model to model/keypoint_classifier\\keypoint_classifier.hdf5\n",
            "118/118 [==============================] - 0s 3ms/step - loss: 1.2429 - accuracy: 0.5737 - val_loss: 0.5703 - val_accuracy: 0.9110\n",
            "Epoch 62/1000\n",
            "100/118 [========================>.....] - ETA: 0s - loss: 1.2509 - accuracy: 0.5717\n",
            "Epoch 62: saving model to model/keypoint_classifier\\keypoint_classifier.hdf5\n",
            "118/118 [==============================] - 0s 3ms/step - loss: 1.2480 - accuracy: 0.5729 - val_loss: 0.5494 - val_accuracy: 0.9088\n",
            "Epoch 63/1000\n",
            " 95/118 [=======================>......] - ETA: 0s - loss: 1.2462 - accuracy: 0.5734\n",
            "Epoch 63: saving model to model/keypoint_classifier\\keypoint_classifier.hdf5\n",
            "118/118 [==============================] - 0s 3ms/step - loss: 1.2438 - accuracy: 0.5734 - val_loss: 0.5531 - val_accuracy: 0.9310\n",
            "Epoch 64/1000\n",
            "101/118 [========================>.....] - ETA: 0s - loss: 1.2414 - accuracy: 0.5780\n",
            "Epoch 64: saving model to model/keypoint_classifier\\keypoint_classifier.hdf5\n",
            "118/118 [==============================] - 0s 3ms/step - loss: 1.2422 - accuracy: 0.5764 - val_loss: 0.5601 - val_accuracy: 0.9264\n",
            "Epoch 65/1000\n",
            " 99/118 [========================>.....] - ETA: 0s - loss: 1.2436 - accuracy: 0.5744\n",
            "Epoch 65: saving model to model/keypoint_classifier\\keypoint_classifier.hdf5\n",
            "118/118 [==============================] - 0s 3ms/step - loss: 1.2378 - accuracy: 0.5747 - val_loss: 0.5586 - val_accuracy: 0.9204\n",
            "Epoch 66/1000\n",
            "111/118 [===========================>..] - ETA: 0s - loss: 1.2107 - accuracy: 0.5833\n",
            "Epoch 66: saving model to model/keypoint_classifier\\keypoint_classifier.hdf5\n",
            "118/118 [==============================] - 0s 3ms/step - loss: 1.2122 - accuracy: 0.5830 - val_loss: 0.5474 - val_accuracy: 0.9288\n",
            "Epoch 67/1000\n",
            "102/118 [========================>.....] - ETA: 0s - loss: 1.2360 - accuracy: 0.5765\n",
            "Epoch 67: saving model to model/keypoint_classifier\\keypoint_classifier.hdf5\n",
            "118/118 [==============================] - 0s 3ms/step - loss: 1.2374 - accuracy: 0.5784 - val_loss: 0.5507 - val_accuracy: 0.9110\n",
            "Epoch 68/1000\n",
            " 98/118 [=======================>......] - ETA: 0s - loss: 1.2195 - accuracy: 0.5792\n",
            "Epoch 68: saving model to model/keypoint_classifier\\keypoint_classifier.hdf5\n",
            "118/118 [==============================] - 0s 3ms/step - loss: 1.2164 - accuracy: 0.5807 - val_loss: 0.5355 - val_accuracy: 0.9078\n",
            "Epoch 69/1000\n",
            " 94/118 [======================>.......] - ETA: 0s - loss: 1.2137 - accuracy: 0.5857\n",
            "Epoch 69: saving model to model/keypoint_classifier\\keypoint_classifier.hdf5\n",
            "118/118 [==============================] - 0s 3ms/step - loss: 1.2158 - accuracy: 0.5823 - val_loss: 0.5460 - val_accuracy: 0.9158\n",
            "Epoch 70/1000\n",
            " 98/118 [=======================>......] - ETA: 0s - loss: 1.2135 - accuracy: 0.5827\n",
            "Epoch 70: saving model to model/keypoint_classifier\\keypoint_classifier.hdf5\n",
            "118/118 [==============================] - 0s 3ms/step - loss: 1.2167 - accuracy: 0.5823 - val_loss: 0.5574 - val_accuracy: 0.9190\n",
            "Epoch 71/1000\n",
            " 98/118 [=======================>......] - ETA: 0s - loss: 1.2241 - accuracy: 0.5804\n",
            "Epoch 71: saving model to model/keypoint_classifier\\keypoint_classifier.hdf5\n",
            "118/118 [==============================] - 0s 4ms/step - loss: 1.2213 - accuracy: 0.5805 - val_loss: 0.5608 - val_accuracy: 0.9158\n",
            "Epoch 72/1000\n",
            "112/118 [===========================>..] - ETA: 0s - loss: 1.1998 - accuracy: 0.5893\n",
            "Epoch 72: saving model to model/keypoint_classifier\\keypoint_classifier.hdf5\n",
            "118/118 [==============================] - 0s 3ms/step - loss: 1.2017 - accuracy: 0.5883 - val_loss: 0.5395 - val_accuracy: 0.9164\n",
            "Epoch 73/1000\n",
            "112/118 [===========================>..] - ETA: 0s - loss: 1.2062 - accuracy: 0.5855\n",
            "Epoch 73: saving model to model/keypoint_classifier\\keypoint_classifier.hdf5\n",
            "118/118 [==============================] - 0s 3ms/step - loss: 1.2054 - accuracy: 0.5857 - val_loss: 0.5495 - val_accuracy: 0.9170\n",
            "Epoch 74/1000\n",
            "111/118 [===========================>..] - ETA: 0s - loss: 1.2065 - accuracy: 0.5857\n",
            "Epoch 74: saving model to model/keypoint_classifier\\keypoint_classifier.hdf5\n",
            "118/118 [==============================] - 0s 3ms/step - loss: 1.2076 - accuracy: 0.5846 - val_loss: 0.5558 - val_accuracy: 0.9118\n",
            "Epoch 75/1000\n",
            " 97/118 [=======================>......] - ETA: 0s - loss: 1.2132 - accuracy: 0.5823\n",
            "Epoch 75: saving model to model/keypoint_classifier\\keypoint_classifier.hdf5\n",
            "118/118 [==============================] - 0s 3ms/step - loss: 1.2115 - accuracy: 0.5825 - val_loss: 0.5426 - val_accuracy: 0.9344\n",
            "Epoch 76/1000\n",
            "106/118 [=========================>....] - ETA: 0s - loss: 1.1935 - accuracy: 0.5901\n",
            "Epoch 76: saving model to model/keypoint_classifier\\keypoint_classifier.hdf5\n",
            "118/118 [==============================] - 0s 4ms/step - loss: 1.1895 - accuracy: 0.5898 - val_loss: 0.5529 - val_accuracy: 0.9184\n",
            "Epoch 77/1000\n",
            "108/118 [==========================>...] - ETA: 0s - loss: 1.1923 - accuracy: 0.5906\n",
            "Epoch 77: saving model to model/keypoint_classifier\\keypoint_classifier.hdf5\n",
            "118/118 [==============================] - 0s 3ms/step - loss: 1.1903 - accuracy: 0.5915 - val_loss: 0.5392 - val_accuracy: 0.9282\n",
            "Epoch 78/1000\n",
            "114/118 [===========================>..] - ETA: 0s - loss: 1.1968 - accuracy: 0.5884\n",
            "Epoch 78: saving model to model/keypoint_classifier\\keypoint_classifier.hdf5\n",
            "118/118 [==============================] - 0s 3ms/step - loss: 1.1986 - accuracy: 0.5883 - val_loss: 0.5337 - val_accuracy: 0.9340\n",
            "Epoch 79/1000\n",
            "107/118 [==========================>...] - ETA: 0s - loss: 1.2014 - accuracy: 0.5892\n",
            "Epoch 79: saving model to model/keypoint_classifier\\keypoint_classifier.hdf5\n",
            "118/118 [==============================] - 0s 3ms/step - loss: 1.1944 - accuracy: 0.5916 - val_loss: 0.5491 - val_accuracy: 0.9242\n",
            "Epoch 80/1000\n",
            " 98/118 [=======================>......] - ETA: 0s - loss: 1.1818 - accuracy: 0.5983\n",
            "Epoch 80: saving model to model/keypoint_classifier\\keypoint_classifier.hdf5\n",
            "118/118 [==============================] - 0s 3ms/step - loss: 1.1864 - accuracy: 0.5986 - val_loss: 0.5507 - val_accuracy: 0.9280\n",
            "Epoch 81/1000\n",
            " 98/118 [=======================>......] - ETA: 0s - loss: 1.1804 - accuracy: 0.5914\n",
            "Epoch 81: saving model to model/keypoint_classifier\\keypoint_classifier.hdf5\n",
            "118/118 [==============================] - 0s 3ms/step - loss: 1.1771 - accuracy: 0.5915 - val_loss: 0.5417 - val_accuracy: 0.9160\n",
            "Epoch 82/1000\n",
            "114/118 [===========================>..] - ETA: 0s - loss: 1.1875 - accuracy: 0.5891\n",
            "Epoch 82: saving model to model/keypoint_classifier\\keypoint_classifier.hdf5\n",
            "118/118 [==============================] - 0s 4ms/step - loss: 1.1863 - accuracy: 0.5897 - val_loss: 0.5394 - val_accuracy: 0.9126\n",
            "Epoch 83/1000\n",
            "106/118 [=========================>....] - ETA: 0s - loss: 1.1830 - accuracy: 0.5945\n",
            "Epoch 83: saving model to model/keypoint_classifier\\keypoint_classifier.hdf5\n",
            "118/118 [==============================] - 0s 4ms/step - loss: 1.1821 - accuracy: 0.5952 - val_loss: 0.5517 - val_accuracy: 0.9130\n",
            "Epoch 84/1000\n",
            "102/118 [========================>.....] - ETA: 0s - loss: 1.1685 - accuracy: 0.5994\n",
            "Epoch 84: saving model to model/keypoint_classifier\\keypoint_classifier.hdf5\n",
            "118/118 [==============================] - 0s 3ms/step - loss: 1.1724 - accuracy: 0.6003 - val_loss: 0.5276 - val_accuracy: 0.9174\n",
            "Epoch 85/1000\n",
            "108/118 [==========================>...] - ETA: 0s - loss: 1.1694 - accuracy: 0.5950\n",
            "Epoch 85: saving model to model/keypoint_classifier\\keypoint_classifier.hdf5\n",
            "118/118 [==============================] - 0s 4ms/step - loss: 1.1676 - accuracy: 0.5963 - val_loss: 0.5586 - val_accuracy: 0.9144\n",
            "Epoch 86/1000\n",
            "109/118 [==========================>...] - ETA: 0s - loss: 1.1715 - accuracy: 0.6003\n",
            "Epoch 86: saving model to model/keypoint_classifier\\keypoint_classifier.hdf5\n",
            "118/118 [==============================] - 0s 3ms/step - loss: 1.1735 - accuracy: 0.5995 - val_loss: 0.5572 - val_accuracy: 0.9164\n",
            "Epoch 87/1000\n",
            "102/118 [========================>.....] - ETA: 0s - loss: 1.1625 - accuracy: 0.5965\n",
            "Epoch 87: saving model to model/keypoint_classifier\\keypoint_classifier.hdf5\n",
            "118/118 [==============================] - 0s 4ms/step - loss: 1.1679 - accuracy: 0.5954 - val_loss: 0.5515 - val_accuracy: 0.9046\n",
            "Epoch 88/1000\n",
            "118/118 [==============================] - ETA: 0s - loss: 1.1715 - accuracy: 0.5993\n",
            "Epoch 88: saving model to model/keypoint_classifier\\keypoint_classifier.hdf5\n",
            "118/118 [==============================] - 0s 3ms/step - loss: 1.1715 - accuracy: 0.5993 - val_loss: 0.5368 - val_accuracy: 0.9162\n",
            "Epoch 89/1000\n",
            "116/118 [============================>.] - ETA: 0s - loss: 1.1690 - accuracy: 0.5983\n",
            "Epoch 89: saving model to model/keypoint_classifier\\keypoint_classifier.hdf5\n",
            "118/118 [==============================] - 0s 3ms/step - loss: 1.1684 - accuracy: 0.5995 - val_loss: 0.5439 - val_accuracy: 0.9138\n",
            "Epoch 90/1000\n",
            "108/118 [==========================>...] - ETA: 0s - loss: 1.1552 - accuracy: 0.6008\n",
            "Epoch 90: saving model to model/keypoint_classifier\\keypoint_classifier.hdf5\n",
            "118/118 [==============================] - 0s 3ms/step - loss: 1.1577 - accuracy: 0.5995 - val_loss: 0.5424 - val_accuracy: 0.9302\n",
            "Epoch 91/1000\n",
            "113/118 [===========================>..] - ETA: 0s - loss: 1.1644 - accuracy: 0.5988\n",
            "Epoch 91: saving model to model/keypoint_classifier\\keypoint_classifier.hdf5\n",
            "118/118 [==============================] - 0s 4ms/step - loss: 1.1622 - accuracy: 0.6005 - val_loss: 0.5535 - val_accuracy: 0.9260\n",
            "Epoch 92/1000\n",
            "104/118 [=========================>....] - ETA: 0s - loss: 1.1592 - accuracy: 0.5971\n",
            "Epoch 92: saving model to model/keypoint_classifier\\keypoint_classifier.hdf5\n",
            "118/118 [==============================] - 0s 3ms/step - loss: 1.1611 - accuracy: 0.5977 - val_loss: 0.5376 - val_accuracy: 0.9142\n",
            "Epoch 93/1000\n",
            " 84/118 [====================>.........] - ETA: 0s - loss: 1.1409 - accuracy: 0.6150\n",
            "Epoch 93: saving model to model/keypoint_classifier\\keypoint_classifier.hdf5\n",
            "118/118 [==============================] - 0s 2ms/step - loss: 1.1572 - accuracy: 0.6091 - val_loss: 0.5457 - val_accuracy: 0.9276\n",
            "Epoch 94/1000\n",
            " 95/118 [=======================>......] - ETA: 0s - loss: 1.1496 - accuracy: 0.6106\n",
            "Epoch 94: saving model to model/keypoint_classifier\\keypoint_classifier.hdf5\n",
            "118/118 [==============================] - 0s 2ms/step - loss: 1.1466 - accuracy: 0.6103 - val_loss: 0.5444 - val_accuracy: 0.9210\n",
            "Epoch 95/1000\n",
            " 80/118 [===================>..........] - ETA: 0s - loss: 1.1419 - accuracy: 0.6067\n",
            "Epoch 95: saving model to model/keypoint_classifier\\keypoint_classifier.hdf5\n",
            "118/118 [==============================] - 0s 2ms/step - loss: 1.1463 - accuracy: 0.6042 - val_loss: 0.5430 - val_accuracy: 0.8978\n",
            "Epoch 96/1000\n",
            " 88/118 [=====================>........] - ETA: 0s - loss: 1.1645 - accuracy: 0.6030\n",
            "Epoch 96: saving model to model/keypoint_classifier\\keypoint_classifier.hdf5\n",
            "118/118 [==============================] - 0s 2ms/step - loss: 1.1696 - accuracy: 0.6015 - val_loss: 0.5502 - val_accuracy: 0.9070\n",
            "Epoch 97/1000\n",
            " 75/118 [==================>...........] - ETA: 0s - loss: 1.1378 - accuracy: 0.6068\n",
            "Epoch 97: saving model to model/keypoint_classifier\\keypoint_classifier.hdf5\n",
            "118/118 [==============================] - 0s 2ms/step - loss: 1.1410 - accuracy: 0.6074 - val_loss: 0.5471 - val_accuracy: 0.8946\n",
            "Epoch 98/1000\n",
            "118/118 [==============================] - ETA: 0s - loss: 1.1522 - accuracy: 0.6070\n",
            "Epoch 98: saving model to model/keypoint_classifier\\keypoint_classifier.hdf5\n",
            "118/118 [==============================] - 0s 2ms/step - loss: 1.1522 - accuracy: 0.6070 - val_loss: 0.5484 - val_accuracy: 0.9090\n",
            "Epoch 99/1000\n",
            "113/118 [===========================>..] - ETA: 0s - loss: 1.1493 - accuracy: 0.6056\n",
            "Epoch 99: saving model to model/keypoint_classifier\\keypoint_classifier.hdf5\n",
            "118/118 [==============================] - 0s 2ms/step - loss: 1.1527 - accuracy: 0.6042 - val_loss: 0.5475 - val_accuracy: 0.9136\n",
            "Epoch 100/1000\n",
            "103/118 [=========================>....] - ETA: 0s - loss: 1.1444 - accuracy: 0.6069\n",
            "Epoch 100: saving model to model/keypoint_classifier\\keypoint_classifier.hdf5\n",
            "118/118 [==============================] - 0s 4ms/step - loss: 1.1529 - accuracy: 0.6029 - val_loss: 0.5416 - val_accuracy: 0.9252\n",
            "Epoch 101/1000\n",
            "100/118 [========================>.....] - ETA: 0s - loss: 1.1492 - accuracy: 0.6043\n",
            "Epoch 101: saving model to model/keypoint_classifier\\keypoint_classifier.hdf5\n",
            "118/118 [==============================] - 0s 4ms/step - loss: 1.1463 - accuracy: 0.6052 - val_loss: 0.5531 - val_accuracy: 0.9232\n",
            "Epoch 102/1000\n",
            " 86/118 [====================>.........] - ETA: 0s - loss: 1.1531 - accuracy: 0.6027\n",
            "Epoch 102: saving model to model/keypoint_classifier\\keypoint_classifier.hdf5\n",
            "118/118 [==============================] - 0s 2ms/step - loss: 1.1531 - accuracy: 0.6039 - val_loss: 0.5514 - val_accuracy: 0.9168\n",
            "Epoch 103/1000\n",
            "114/118 [===========================>..] - ETA: 0s - loss: 1.1432 - accuracy: 0.6066\n",
            "Epoch 103: saving model to model/keypoint_classifier\\keypoint_classifier.hdf5\n",
            "118/118 [==============================] - 0s 2ms/step - loss: 1.1432 - accuracy: 0.6061 - val_loss: 0.5416 - val_accuracy: 0.9148\n",
            "Epoch 104/1000\n",
            "114/118 [===========================>..] - ETA: 0s - loss: 1.1556 - accuracy: 0.6057\n",
            "Epoch 104: saving model to model/keypoint_classifier\\keypoint_classifier.hdf5\n",
            "118/118 [==============================] - 0s 3ms/step - loss: 1.1524 - accuracy: 0.6066 - val_loss: 0.5454 - val_accuracy: 0.9152\n",
            "Epoch 104: early stopping\n"
          ]
        },
        {
          "data": {
            "text/plain": [
              "<keras.callbacks.History at 0x21cb055f5e0>"
            ]
          },
          "execution_count": 11,
          "metadata": {},
          "output_type": "execute_result"
        }
      ],
      "source": [
        "model.fit(\n",
        "    X_train,\n",
        "    y_train,\n",
        "    epochs=1000,\n",
        "    batch_size=128,\n",
        "    validation_data=(X_test, y_test),\n",
        "    callbacks=[cp_callback, es_callback]\n",
        ")"
      ]
    },
    {
      "cell_type": "code",
      "execution_count": 12,
      "metadata": {
        "colab": {
          "base_uri": "https://localhost:8080/"
        },
        "id": "pxvb2Y299hE3",
        "outputId": "59eb3185-2e37-4b9e-bc9d-ab1b8ac29b7f"
      },
      "outputs": [
        {
          "name": "stdout",
          "output_type": "stream",
          "text": [
            "40/40 [==============================] - 0s 1ms/step - loss: 0.5454 - accuracy: 0.9152\n"
          ]
        }
      ],
      "source": [
        "# Model evaluation\n",
        "val_loss, val_acc = model.evaluate(X_test, y_test, batch_size=128)"
      ]
    },
    {
      "cell_type": "code",
      "execution_count": 13,
      "metadata": {
        "id": "RBkmDeUW9hE4"
      },
      "outputs": [],
      "source": [
        "# Loading the saved model\n",
        "model = tf.keras.models.load_model(model_save_path)"
      ]
    },
    {
      "cell_type": "code",
      "execution_count": 14,
      "metadata": {
        "colab": {
          "base_uri": "https://localhost:8080/"
        },
        "id": "tFz9Tb0I9hE4",
        "outputId": "1c3b3528-54ae-4ee2-ab04-77429211cbef"
      },
      "outputs": [
        {
          "name": "stdout",
          "output_type": "stream",
          "text": [
            "1/1 [==============================] - 0s 79ms/step\n",
            "[2.42383070e-02 3.84295732e-01 6.04951128e-05 1.25944731e-03\n",
            " 6.60456493e-02 6.05284702e-03 3.24332534e-04 1.40071308e-04\n",
            " 7.34079769e-03 8.08594376e-03 2.31116489e-01 1.12338355e-02\n",
            " 1.07759587e-03 3.15910429e-02 9.22553837e-02 8.23578313e-02\n",
            " 1.20103583e-02 2.87433788e-02 2.45095998e-05 1.17459539e-02\n",
            " 6.23992369e-09]\n",
            "1\n"
          ]
        }
      ],
      "source": [
        "# Inference test\n",
        "predict_result = model.predict(np.array([X_test[0]]))\n",
        "print(np.squeeze(predict_result))\n",
        "print(np.argmax(np.squeeze(predict_result)))"
      ]
    },
    {
      "attachments": {},
      "cell_type": "markdown",
      "metadata": {
        "id": "S3U4yNWx9hE4"
      },
      "source": [
        "# Confusion matrix"
      ]
    },
    {
      "cell_type": "code",
      "execution_count": 15,
      "metadata": {
        "colab": {
          "base_uri": "https://localhost:8080/",
          "height": 582
        },
        "id": "AP1V6SCk9hE5",
        "outputId": "08e41a80-7a4a-4619-8125-ecc371368d19"
      },
      "outputs": [
        {
          "name": "stdout",
          "output_type": "stream",
          "text": [
            "157/157 [==============================] - 0s 898us/step\n"
          ]
        },
        {
          "data": {
            "image/png": "[encoded data removed]",
            "text/plain": [
              "<Figure size 700x600 with 2 Axes>"
            ]
          },
          "metadata": {},
          "output_type": "display_data"
        },
        {
          "name": "stdout",
          "output_type": "stream",
          "text": [
            "Classification Report\n",
            "              precision    recall  f1-score   support\n",
            "\n",
            "           0       0.96      0.64      0.77       237\n",
            "           1       0.82      0.86      0.84       236\n",
            "           2       0.92      0.94      0.93       271\n",
            "           3       0.87      1.00      0.93       247\n",
            "           4       1.00      0.83      0.91       253\n",
            "           5       0.86      0.85      0.85       237\n",
            "           6       0.92      0.91      0.92       256\n",
            "           7       1.00      0.72      0.84       258\n",
            "           8       0.87      1.00      0.93       264\n",
            "           9       0.85      0.97      0.91       265\n",
            "          10       0.87      0.88      0.87       240\n",
            "          11       1.00      0.95      0.97       241\n",
            "          12       0.99      0.98      0.99       252\n",
            "          13       1.00      0.99      0.99       276\n",
            "          14       0.95      1.00      0.98       247\n",
            "          15       1.00      0.94      0.97       255\n",
            "          16       0.98      0.83      0.90       248\n",
            "          17       0.80      1.00      0.89       246\n",
            "          18       0.82      1.00      0.90       238\n",
            "          19       0.96      0.97      0.97       233\n",
            "\n",
            "    accuracy                           0.92      5000\n",
            "   macro avg       0.92      0.91      0.91      5000\n",
            "weighted avg       0.92      0.92      0.91      5000\n",
            "\n"
          ]
        }
      ],
      "source": [
        "import pandas as pd\n",
        "import seaborn as sns\n",
        "import matplotlib.pyplot as plt\n",
        "from sklearn.metrics import confusion_matrix, classification_report\n",
        "\n",
        "def print_confusion_matrix(y_true, y_pred, report=True):\n",
        "    labels = sorted(list(set(y_true)))\n",
        "    cmx_data = confusion_matrix(y_true, y_pred, labels=labels)\n",
        "    \n",
        "    df_cmx = pd.DataFrame(cmx_data, index=labels, columns=labels)\n",
        " \n",
        "    fig, ax = plt.subplots(figsize=(7, 6))\n",
        "    sns.heatmap(df_cmx, annot=True, fmt='g' ,square=False)\n",
        "    ax.set_ylim(len(set(y_true)), 0)\n",
        "    plt.show()\n",
        "    \n",
        "    if report:\n",
        "        print('Classification Report')\n",
        "        print(classification_report(y_test, y_pred))\n",
        "\n",
        "Y_pred = model.predict(X_test)\n",
        "y_pred = np.argmax(Y_pred, axis=1)\n",
        "\n",
        "print_confusion_matrix(y_test, y_pred)"
      ]
    },
    {
      "attachments": {},
      "cell_type": "markdown",
      "metadata": {
        "id": "FNP6aqzc9hE5"
      },
      "source": [
        "# Convert to model for Tensorflow-Lite"
      ]
    },
    {
      "cell_type": "code",
      "execution_count": 16,
      "metadata": {
        "id": "ODjnYyld9hE6"
      },
      "outputs": [],
      "source": [
        "# Save as a model dedicated to inference\n",
        "model.save(model_save_path, include_optimizer=False)"
      ]
    },
    {
      "cell_type": "code",
      "execution_count": 17,
      "metadata": {
        "colab": {
          "base_uri": "https://localhost:8080/"
        },
        "id": "zRfuK8Y59hE6",
        "outputId": "a4ca585c-b5d5-4244-8291-8674063209bb"
      },
      "outputs": [
        {
          "name": "stderr",
          "output_type": "stream",
          "text": [
            "WARNING:absl:Found untraced functions such as _update_step_xla while saving (showing 1 of 1). These functions will not be directly callable after loading.\n"
          ]
        },
        {
          "name": "stdout",
          "output_type": "stream",
          "text": [
            "INFO:tensorflow:Assets written to: C:\\Users\\asus\\AppData\\Local\\Temp\\tmpya4iagu2\\assets\n"
          ]
        },
        {
          "name": "stderr",
          "output_type": "stream",
          "text": [
            "INFO:tensorflow:Assets written to: C:\\Users\\asus\\AppData\\Local\\Temp\\tmpya4iagu2\\assets\n"
          ]
        },
        {
          "data": {
            "text/plain": [
              "7292"
            ]
          },
          "execution_count": 17,
          "metadata": {},
          "output_type": "execute_result"
        }
      ],
      "source": [
        "# Transform model (quantization)\n",
        "\n",
        "converter = tf.lite.TFLiteConverter.from_keras_model(model)\n",
        "converter.optimizations = [tf.lite.Optimize.DEFAULT]\n",
        "tflite_quantized_model = converter.convert()\n",
        "\n",
        "open(tflite_save_path, 'wb').write(tflite_quantized_model)"
      ]
    },
    {
      "attachments": {},
      "cell_type": "markdown",
      "metadata": {
        "id": "CHBPBXdx9hE6"
      },
      "source": [
        "# Inference test"
      ]
    },
    {
      "cell_type": "code",
      "execution_count": 18,
      "metadata": {
        "id": "mGAzLocO9hE7"
      },
      "outputs": [],
      "source": [
        "interpreter = tf.lite.Interpreter(model_path=tflite_save_path)\n",
        "interpreter.allocate_tensors()"
      ]
    },
    {
      "cell_type": "code",
      "execution_count": 19,
      "metadata": {
        "id": "oQuDK8YS9hE7"
      },
      "outputs": [],
      "source": [
        "# Get I / O tensor\n",
        "input_details = interpreter.get_input_details()\n",
        "output_details = interpreter.get_output_details()"
      ]
    },
    {
      "cell_type": "code",
      "execution_count": 20,
      "metadata": {
        "id": "2_ixAf_l9hE7"
      },
      "outputs": [],
      "source": [
        "interpreter.set_tensor(input_details[0]['index'], np.array([X_test[0]]))"
      ]
    },
    {
      "cell_type": "code",
      "execution_count": 21,
      "metadata": {
        "colab": {
          "base_uri": "https://localhost:8080/"
        },
        "id": "s4FoAnuc9hE7",
        "outputId": "91f18257-8d8b-4ef3-c558-e9b5f94fabbf",
        "scrolled": true
      },
      "outputs": [
        {
          "name": "stdout",
          "output_type": "stream",
          "text": [
            "CPU times: total: 0 ns\n",
            "Wall time: 996 µs\n"
          ]
        }
      ],
      "source": [
        "%%time\n",
        "# Inference implementation\n",
        "interpreter.invoke()\n",
        "tflite_results = interpreter.get_tensor(output_details[0]['index'])"
      ]
    },
    {
      "cell_type": "code",
      "execution_count": 22,
      "metadata": {
        "colab": {
          "base_uri": "https://localhost:8080/"
        },
        "id": "vONjp19J9hE8",
        "outputId": "77205e24-fd00-42c4-f7b6-e06e527c2cba"
      },
      "outputs": [
        {
          "name": "stdout",
          "output_type": "stream",
          "text": [
            "[2.4238309e-02 3.8429576e-01 6.0495055e-05 1.2594461e-03 6.6045649e-02\n",
            " 6.0528414e-03 3.2433253e-04 1.4007119e-04 7.3407944e-03 8.0859410e-03\n",
            " 2.3111641e-01 1.1233831e-02 1.0775954e-03 3.1591065e-02 9.2255458e-02\n",
            " 8.2357794e-02 1.2010351e-02 2.8743399e-02 2.4509600e-05 1.1745943e-02\n",
            " 6.2399357e-09]\n",
            "1\n"
          ]
        }
      ],
      "source": [
        "print(np.squeeze(tflite_results))\n",
        "print(np.argmax(np.squeeze(tflite_results)))"
      ]
    }
  ],
  "metadata": {
    "accelerator": "GPU",
    "colab": {
      "collapsed_sections": [],
      "name": "keypoint_classification_EN.ipynb",
      "provenance": [],
      "toc_visible": true
    },
    "kernelspec": {
      "display_name": "Python 3",
      "language": "python",
      "name": "python3"
    },
    "language_info": {
      "codemirror_mode": {
        "name": "ipython",
        "version": 3
      },
      "file_extension": ".py",
      "mimetype": "text/x-python",
      "name": "python",
      "nbconvert_exporter": "python",
      "pygments_lexer": "ipython3",
      "version": "3.10.0"
    },
    "vscode": {
      "interpreter": {
        "hash": "26de051ba29f2982a8de78e945f0abaf191376122a1563185a90213a26c5da77"
      }
    }
  },
  "nbformat": 4,
  "nbformat_minor": 0
}
